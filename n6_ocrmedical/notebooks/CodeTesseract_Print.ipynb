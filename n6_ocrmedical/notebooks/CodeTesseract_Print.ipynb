{
 "cells": [
  {
   "cell_type": "code",
   "execution_count": 1,
   "id": "950a06af",
   "metadata": {},
   "outputs": [],
   "source": [
    "import pytesseract\n",
    "from PIL import Image"
   ]
  },
  {
   "cell_type": "code",
   "execution_count": 2,
   "id": "b19d9a30",
   "metadata": {},
   "outputs": [],
   "source": [
    "final_image_path = \"output/image_with_border.jpg\""
   ]
  },
  {
   "cell_type": "code",
   "execution_count": 3,
   "id": "42b35a28",
   "metadata": {},
   "outputs": [],
   "source": [
    "img = Image.open(final_image_path)"
   ]
  },
  {
   "cell_type": "code",
   "execution_count": 4,
   "id": "3a25523b",
   "metadata": {},
   "outputs": [],
   "source": [
    "img.show()"
   ]
  },
  {
   "cell_type": "code",
   "execution_count": 5,
   "id": "0bb2bb29",
   "metadata": {},
   "outputs": [],
   "source": [
    "ocr_result = pytesseract.image_to_string(img, lang='vie')"
   ]
  },
  {
   "cell_type": "code",
   "execution_count": 6,
   "id": "1769322f",
   "metadata": {},
   "outputs": [
    {
     "name": "stdout",
     "output_type": "stream",
     "text": [
      "Nội dung đã nhận diện từ ảnh:\n",
      "Viết một doạn văn ngắn (từ Š đến 7 câu)\n",
      "kể về một người lao động mà em biết\n",
      "Bài làm\n",
      "Người làm vườn tài giỏi\n",
      "\n",
      "Thím Hương là người làm vườn giỏi nhất ờ quê em. Gương mặt trái xoan,\n",
      "cặp mắt sáng, hiển hậu, dáng người thanh mảnh, búi tóc lúc nào cũng nằm gọn\n",
      "phía sau. Vườn rau chưa đẩy một sào, nhưng mùa nào rau ấy, xanh tốt quanh năm.\n",
      "Các luống rau, hành, tỏi, cải bắp, su hào, cải xanh, rau mùi,... được bố trí thành\n",
      "luống dọc ngang, trông đều tâm tắp, xianh ngân gắt. Sớm, trưa, chiều, ngày nắng\n",
      "cũng như ngày râm, với bộ quần áo nâu hoặc xanh công nhân, thím đi lại thoản\n",
      "thoắt giữa các luống rau. Lúc nhật có tưới rau, lúc cuốc xới, cắt tỉa... lúc nào thím\n",
      "cũng chẳng ngơi tay. Thím nói: “Rau phải sạch, tươi, ngon, ngọt và thơm mới là\n",
      "rau quý, rau có thương hiệu”. Mùa rau năm ngoái, thím bán cho quân đội hơn 20\n",
      "tấn rau. L.úc nào mẹ em cũng tấm tắc khen thím Hương là nhà nông học tài giỏi.\n",
      "\n",
      "Vũ Thị Nhạn, 3A\n",
      "\n",
      "Trường Tiểu học Yên Xá\n",
      "Ý Yên - Nam Định\n",
      "\n"
     ]
    }
   ],
   "source": [
    "print('Nội dung đã nhận diện từ ảnh:')\n",
    "print (ocr_result)"
   ]
  }
 ],
 "metadata": {
  "kernelspec": {
   "display_name": "Intern_env",
   "language": "python",
   "name": "python3"
  },
  "language_info": {
   "codemirror_mode": {
    "name": "ipython",
    "version": 3
   },
   "file_extension": ".py",
   "mimetype": "text/x-python",
   "name": "python",
   "nbconvert_exporter": "python",
   "pygments_lexer": "ipython3",
   "version": "3.10.18"
  }
 },
 "nbformat": 4,
 "nbformat_minor": 5
}
